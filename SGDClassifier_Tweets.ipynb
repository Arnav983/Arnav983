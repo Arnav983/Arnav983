{
 "cells": [
  {
   "cell_type": "code",
   "execution_count": 1,
   "id": "efd338a6",
   "metadata": {
    "_cell_guid": "b1076dfc-b9ad-4769-8c92-a6c4dae69d19",
    "_uuid": "8f2839f25d086af736a60e9eeb907d3b93b6e0e5",
    "execution": {
     "iopub.execute_input": "2022-08-17T21:52:31.477937Z",
     "iopub.status.busy": "2022-08-17T21:52:31.477458Z",
     "iopub.status.idle": "2022-08-17T21:52:32.774072Z",
     "shell.execute_reply": "2022-08-17T21:52:32.772773Z"
    },
    "papermill": {
     "duration": 1.306747,
     "end_time": "2022-08-17T21:52:32.777189",
     "exception": false,
     "start_time": "2022-08-17T21:52:31.470442",
     "status": "completed"
    },
    "tags": []
   },
   "outputs": [],
   "source": [
    "import numpy as np\n",
    "import pandas as pd\n",
    "from sklearn.linear_model import SGDClassifier\n",
    "from sklearn import feature_extraction,model_selection\n",
    "from sklearn.feature_extraction.text import TfidfVectorizer"
   ]
  },
  {
   "cell_type": "code",
   "execution_count": 2,
   "id": "a096912b",
   "metadata": {
    "execution": {
     "iopub.execute_input": "2022-08-17T21:52:32.787549Z",
     "iopub.status.busy": "2022-08-17T21:52:32.786415Z",
     "iopub.status.idle": "2022-08-17T21:52:32.862292Z",
     "shell.execute_reply": "2022-08-17T21:52:32.861019Z"
    },
    "papermill": {
     "duration": 0.083747,
     "end_time": "2022-08-17T21:52:32.865189",
     "exception": false,
     "start_time": "2022-08-17T21:52:32.781442",
     "status": "completed"
    },
    "tags": []
   },
   "outputs": [],
   "source": [
    "df_train = pd.read_csv(\"../input/nlp-getting-started/train.csv\")\n",
    "df_test = pd.read_csv(\"../input/nlp-getting-started/test.csv\")"
   ]
  },
  {
   "cell_type": "code",
   "execution_count": 3,
   "id": "b9e76ab1",
   "metadata": {
    "execution": {
     "iopub.execute_input": "2022-08-17T21:52:32.875030Z",
     "iopub.status.busy": "2022-08-17T21:52:32.874609Z",
     "iopub.status.idle": "2022-08-17T21:52:32.879874Z",
     "shell.execute_reply": "2022-08-17T21:52:32.878587Z"
    },
    "papermill": {
     "duration": 0.013054,
     "end_time": "2022-08-17T21:52:32.882208",
     "exception": false,
     "start_time": "2022-08-17T21:52:32.869154",
     "status": "completed"
    },
    "tags": []
   },
   "outputs": [],
   "source": [
    "vectorizer = feature_extraction.text.TfidfVectorizer()"
   ]
  },
  {
   "cell_type": "code",
   "execution_count": 4,
   "id": "7959910d",
   "metadata": {
    "execution": {
     "iopub.execute_input": "2022-08-17T21:52:32.891700Z",
     "iopub.status.busy": "2022-08-17T21:52:32.891081Z",
     "iopub.status.idle": "2022-08-17T21:52:33.087881Z",
     "shell.execute_reply": "2022-08-17T21:52:33.086801Z"
    },
    "papermill": {
     "duration": 0.204759,
     "end_time": "2022-08-17T21:52:33.090782",
     "exception": false,
     "start_time": "2022-08-17T21:52:32.886023",
     "status": "completed"
    },
    "tags": []
   },
   "outputs": [],
   "source": [
    "train_vectors = vectorizer.fit_transform(df_train[\"text\"])"
   ]
  },
  {
   "cell_type": "code",
   "execution_count": 5,
   "id": "94b7db2c",
   "metadata": {
    "execution": {
     "iopub.execute_input": "2022-08-17T21:52:33.101095Z",
     "iopub.status.busy": "2022-08-17T21:52:33.100228Z",
     "iopub.status.idle": "2022-08-17T21:52:33.165282Z",
     "shell.execute_reply": "2022-08-17T21:52:33.164313Z"
    },
    "papermill": {
     "duration": 0.073102,
     "end_time": "2022-08-17T21:52:33.167981",
     "exception": false,
     "start_time": "2022-08-17T21:52:33.094879",
     "status": "completed"
    },
    "tags": []
   },
   "outputs": [],
   "source": [
    "test_vectors = vectorizer.transform(df_test[\"text\"])"
   ]
  },
  {
   "cell_type": "code",
   "execution_count": 6,
   "id": "ba7b998d",
   "metadata": {
    "execution": {
     "iopub.execute_input": "2022-08-17T21:52:33.179009Z",
     "iopub.status.busy": "2022-08-17T21:52:33.178043Z",
     "iopub.status.idle": "2022-08-17T21:52:33.183899Z",
     "shell.execute_reply": "2022-08-17T21:52:33.182923Z"
    },
    "papermill": {
     "duration": 0.014624,
     "end_time": "2022-08-17T21:52:33.186831",
     "exception": false,
     "start_time": "2022-08-17T21:52:33.172207",
     "status": "completed"
    },
    "tags": []
   },
   "outputs": [],
   "source": [
    "clf = SGDClassifier(loss=\"hinge\", penalty=\"l2\", max_iter=80)"
   ]
  },
  {
   "cell_type": "code",
   "execution_count": 7,
   "id": "72f9eedc",
   "metadata": {
    "execution": {
     "iopub.execute_input": "2022-08-17T21:52:33.197050Z",
     "iopub.status.busy": "2022-08-17T21:52:33.196307Z",
     "iopub.status.idle": "2022-08-17T21:52:33.373369Z",
     "shell.execute_reply": "2022-08-17T21:52:33.372093Z"
    },
    "papermill": {
     "duration": 0.186991,
     "end_time": "2022-08-17T21:52:33.377957",
     "exception": false,
     "start_time": "2022-08-17T21:52:33.190966",
     "status": "completed"
    },
    "tags": []
   },
   "outputs": [
    {
     "data": {
      "text/plain": [
       "array([0.63169051, 0.60384805, 0.67773438])"
      ]
     },
     "execution_count": 7,
     "metadata": {},
     "output_type": "execute_result"
    }
   ],
   "source": [
    "scores = model_selection.cross_val_score(clf, train_vectors, df_train[\"target\"], cv=3, scoring=\"f1\")\n",
    "scores"
   ]
  },
  {
   "cell_type": "code",
   "execution_count": 8,
   "id": "59599138",
   "metadata": {
    "execution": {
     "iopub.execute_input": "2022-08-17T21:52:33.400104Z",
     "iopub.status.busy": "2022-08-17T21:52:33.399352Z",
     "iopub.status.idle": "2022-08-17T21:52:33.486154Z",
     "shell.execute_reply": "2022-08-17T21:52:33.484555Z"
    },
    "papermill": {
     "duration": 0.103354,
     "end_time": "2022-08-17T21:52:33.491119",
     "exception": false,
     "start_time": "2022-08-17T21:52:33.387765",
     "status": "completed"
    },
    "tags": []
   },
   "outputs": [
    {
     "data": {
      "text/plain": [
       "SGDClassifier(max_iter=80)"
      ]
     },
     "execution_count": 8,
     "metadata": {},
     "output_type": "execute_result"
    }
   ],
   "source": [
    "clf.fit(train_vectors, df_train[\"target\"])"
   ]
  },
  {
   "cell_type": "code",
   "execution_count": 9,
   "id": "9059c924",
   "metadata": {
    "execution": {
     "iopub.execute_input": "2022-08-17T21:52:33.514585Z",
     "iopub.status.busy": "2022-08-17T21:52:33.513866Z",
     "iopub.status.idle": "2022-08-17T21:52:33.531293Z",
     "shell.execute_reply": "2022-08-17T21:52:33.529630Z"
    },
    "papermill": {
     "duration": 0.033418,
     "end_time": "2022-08-17T21:52:33.535384",
     "exception": false,
     "start_time": "2022-08-17T21:52:33.501966",
     "status": "completed"
    },
    "tags": []
   },
   "outputs": [],
   "source": [
    "sample_submission = pd.read_csv(\"../input/nlp-getting-started/sample_submission.csv\")"
   ]
  },
  {
   "cell_type": "code",
   "execution_count": 10,
   "id": "b9af10d6",
   "metadata": {
    "execution": {
     "iopub.execute_input": "2022-08-17T21:52:33.546838Z",
     "iopub.status.busy": "2022-08-17T21:52:33.546266Z",
     "iopub.status.idle": "2022-08-17T21:52:33.552609Z",
     "shell.execute_reply": "2022-08-17T21:52:33.551629Z"
    },
    "papermill": {
     "duration": 0.015464,
     "end_time": "2022-08-17T21:52:33.554962",
     "exception": false,
     "start_time": "2022-08-17T21:52:33.539498",
     "status": "completed"
    },
    "tags": []
   },
   "outputs": [],
   "source": [
    "sample_submission[\"target\"] = clf.predict(test_vectors)"
   ]
  },
  {
   "cell_type": "code",
   "execution_count": 11,
   "id": "0f1c5f87",
   "metadata": {
    "execution": {
     "iopub.execute_input": "2022-08-17T21:52:33.565282Z",
     "iopub.status.busy": "2022-08-17T21:52:33.564590Z",
     "iopub.status.idle": "2022-08-17T21:52:33.576846Z",
     "shell.execute_reply": "2022-08-17T21:52:33.575954Z"
    },
    "papermill": {
     "duration": 0.019905,
     "end_time": "2022-08-17T21:52:33.579088",
     "exception": false,
     "start_time": "2022-08-17T21:52:33.559183",
     "status": "completed"
    },
    "tags": []
   },
   "outputs": [
    {
     "data": {
      "text/html": [
       "<div>\n",
       "<style scoped>\n",
       "    .dataframe tbody tr th:only-of-type {\n",
       "        vertical-align: middle;\n",
       "    }\n",
       "\n",
       "    .dataframe tbody tr th {\n",
       "        vertical-align: top;\n",
       "    }\n",
       "\n",
       "    .dataframe thead th {\n",
       "        text-align: right;\n",
       "    }\n",
       "</style>\n",
       "<table border=\"1\" class=\"dataframe\">\n",
       "  <thead>\n",
       "    <tr style=\"text-align: right;\">\n",
       "      <th></th>\n",
       "      <th>id</th>\n",
       "      <th>target</th>\n",
       "    </tr>\n",
       "  </thead>\n",
       "  <tbody>\n",
       "    <tr>\n",
       "      <th>0</th>\n",
       "      <td>0</td>\n",
       "      <td>1</td>\n",
       "    </tr>\n",
       "    <tr>\n",
       "      <th>1</th>\n",
       "      <td>2</td>\n",
       "      <td>1</td>\n",
       "    </tr>\n",
       "    <tr>\n",
       "      <th>2</th>\n",
       "      <td>3</td>\n",
       "      <td>1</td>\n",
       "    </tr>\n",
       "    <tr>\n",
       "      <th>3</th>\n",
       "      <td>9</td>\n",
       "      <td>1</td>\n",
       "    </tr>\n",
       "    <tr>\n",
       "      <th>4</th>\n",
       "      <td>11</td>\n",
       "      <td>1</td>\n",
       "    </tr>\n",
       "  </tbody>\n",
       "</table>\n",
       "</div>"
      ],
      "text/plain": [
       "   id  target\n",
       "0   0       1\n",
       "1   2       1\n",
       "2   3       1\n",
       "3   9       1\n",
       "4  11       1"
      ]
     },
     "execution_count": 11,
     "metadata": {},
     "output_type": "execute_result"
    }
   ],
   "source": [
    "sample_submission.head()"
   ]
  },
  {
   "cell_type": "code",
   "execution_count": 12,
   "id": "a8c7a9db",
   "metadata": {
    "execution": {
     "iopub.execute_input": "2022-08-17T21:52:33.589979Z",
     "iopub.status.busy": "2022-08-17T21:52:33.589495Z",
     "iopub.status.idle": "2022-08-17T21:52:33.601316Z",
     "shell.execute_reply": "2022-08-17T21:52:33.600163Z"
    },
    "papermill": {
     "duration": 0.020478,
     "end_time": "2022-08-17T21:52:33.603978",
     "exception": false,
     "start_time": "2022-08-17T21:52:33.583500",
     "status": "completed"
    },
    "tags": []
   },
   "outputs": [],
   "source": [
    "sample_submission.to_csv(\"submission.csv\", index=False)"
   ]
  },
  {
   "cell_type": "code",
   "execution_count": null,
   "id": "cf6946f6",
   "metadata": {
    "papermill": {
     "duration": 0.003994,
     "end_time": "2022-08-17T21:52:33.612353",
     "exception": false,
     "start_time": "2022-08-17T21:52:33.608359",
     "status": "completed"
    },
    "tags": []
   },
   "outputs": [],
   "source": []
  }
 ],
 "metadata": {
  "kernelspec": {
   "display_name": "Python 3",
   "language": "python",
   "name": "python3"
  },
  "language_info": {
   "codemirror_mode": {
    "name": "ipython",
    "version": 3
   },
   "file_extension": ".py",
   "mimetype": "text/x-python",
   "name": "python",
   "nbconvert_exporter": "python",
   "pygments_lexer": "ipython3",
   "version": "3.7.12"
  },
  "papermill": {
   "default_parameters": {},
   "duration": 13.07815,
   "end_time": "2022-08-17T21:52:34.439478",
   "environment_variables": {},
   "exception": null,
   "input_path": "__notebook__.ipynb",
   "output_path": "__notebook__.ipynb",
   "parameters": {},
   "start_time": "2022-08-17T21:52:21.361328",
   "version": "2.3.4"
  }
 },
 "nbformat": 4,
 "nbformat_minor": 5
}
